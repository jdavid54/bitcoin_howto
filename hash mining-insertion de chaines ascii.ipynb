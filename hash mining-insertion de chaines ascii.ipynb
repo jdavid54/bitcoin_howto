{
 "cells": [
  {
   "cell_type": "code",
   "execution_count": 1,
   "metadata": {},
   "outputs": [
    {
     "name": "stdout",
     "output_type": "stream",
     "text": [
      "28724 9Kzs52jSfxjGJ54Sfjz5gZ111soNkYpafJCURhk7uH3mUtPn8Sq \n",
      " 0000445fd8d5ac300957b6bc781aa7a0b5670fca6b5ad6254d47d30148ff8e9e\n",
      "time took:  3.4766368865966797\n"
     ]
    }
   ],
   "source": [
    "#!/usr/bin/env python\n",
    "#-*- coding: utf-8 -*-\n",
    "#-------------------------------------------------------------------------------\n",
    "# Name:        module2\n",
    "# Purpose:\n",
    "#\n",
    "# Author:      Jean\n",
    "#\n",
    "# Created:     14/02/2018\n",
    "# Copyright:   (c) Jean 2018\n",
    "# Licence:     <your licence>\n",
    "#-------------------------------------------------------------------------------\n",
    "import string\n",
    "import random\n",
    "import hashlib\n",
    "import time\n",
    "\n",
    "example_challenge = '9Kzs52jSfxjGJ54Sfjz5gZ111s'\n",
    "\n",
    "def generation(challenge= example_challenge, size=25):\n",
    "    answer = ''.join(random.choice(string.ascii_lowercase +\n",
    "            string.ascii_uppercase + string.digits) for x in range(size))\n",
    "    #print (challenge)\n",
    "    #print (answer)\n",
    "\n",
    "    attempt = challenge+answer\n",
    "    #print( attempt)\n",
    "    return attempt, answer\n",
    "\n",
    "shaHash = hashlib.sha256()\n",
    "\n",
    "def testAttempt(n):\n",
    "    attempt, answer = generation()\n",
    "    #print(attempt.encode('ascii'))\n",
    "    shaHash.update(attempt.encode('ascii'))\n",
    "    solution = shaHash.hexdigest()\n",
    "    if solution.startswith('000'):\n",
    "        print (n,attempt,'\\n',solution)\n",
    "\n",
    "def testAttempt2():\n",
    "    Found = False\n",
    "    n=1\n",
    "    start = time.time()\n",
    "    while Found == False:\n",
    "        attempt, answer = generation()\n",
    "        shaHash.update(attempt.encode('ascii'))\n",
    "        solution = shaHash.hexdigest()\n",
    "        if solution.startswith('0000'):\n",
    "            timeTook = time.time() - start\n",
    "            print (n,attempt,'\\n',solution)\n",
    "            print('time took: ', timeTook)\n",
    "            Found = True\n",
    "        n += 1\n",
    "\n",
    "def main():\n",
    "    #generation()\n",
    "    \"\"\"\n",
    "    #method1\n",
    "    for i in range(1000000):\n",
    "        testAttempt2(i)\n",
    "    \"\"\"\n",
    "    #method2\n",
    "    testAttempt2()\n",
    "\n",
    "\n",
    "\n",
    "if __name__ == '__main__':\n",
    "    main()\n"
   ]
  },
  {
   "cell_type": "code",
   "execution_count": null,
   "metadata": {},
   "outputs": [],
   "source": []
  }
 ],
 "metadata": {
  "kernelspec": {
   "display_name": "Python 3",
   "language": "python",
   "name": "python3"
  },
  "language_info": {
   "codemirror_mode": {
    "name": "ipython",
    "version": 3
   },
   "file_extension": ".py",
   "mimetype": "text/x-python",
   "name": "python",
   "nbconvert_exporter": "python",
   "pygments_lexer": "ipython3",
   "version": "3.6.9"
  }
 },
 "nbformat": 4,
 "nbformat_minor": 2
}

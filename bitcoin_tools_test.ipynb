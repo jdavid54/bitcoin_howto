{
 "cells": [
  {
   "cell_type": "code",
   "execution_count": 2,
   "metadata": {},
   "outputs": [
    {
     "name": "stdout",
     "output_type": "stream",
     "text": [
      "7f71166df8dffdfaa825f2b9b414e77a639cf303aa0c6d30a1452fb2c1593cc8\n",
      "04abab7f5e81d4d6eb82246146f0eca89a6f251a0346ffbe1c8ac36dc18e649f99221df6f115bde892fc3aae16087f2760814436f2a83d12516571ecfb29d963b7\n",
      "1EP5K83WhP6HHTnArna7AtPjsarQsXcJdx\n",
      "fabee8720f72ebad71e83c965e5106cd1a2688122569a9bbd6830a3bf6a698ee\n",
      "04d08f00ea4c65fbc1ad98c46f31e4cccfb00f8ed689cf713e64095ed3e242de539761095bc64ce03a0554320902a9f1e77cec22dbc3b5fdda7f1682b316731c37\n",
      "1M3PTyfYAELbAoEdepVB1vjAeT2czmZztG\n",
      "0c2c71660e55fd808a9a66c3643cde66341dfaad52d63eaca2cd8f32af13c006\n",
      "04f0cb68bee7dc77a8c29fcd35f9746d8cbfe4d411eaa7c7c9f7cf302e2149ecdcd15486fa4fa3d31bc460c3a55391f3addbf9119f2f23e197f0a39a648c1dfd9b\n",
      "13heTzpU6ynzgeUJro1SYb51QFNn8pbFTA\n"
     ]
    },
    {
     "name": "stderr",
     "output_type": "stream",
     "text": [
      "Fetching more transactions... 50\n",
      "Fetching more transactions... 100\n",
      "Fetching more transactions... 150\n",
      "Fetching more transactions... 200\n"
     ]
    },
    {
     "name": "stdout",
     "output_type": "stream",
     "text": [
      "[{'address': '1NPrfWgJfkANmd1jt88A141PjhiarT8d9U', 'value': 1000000, 'output': 'e84a7a47565930c71198043342f5e5a67d0c909594e34cd9a09eb94a1033584f:0', 'block_height': 385466, 'spend': '510d643b587f853087b17d3cf212ae43ba86273f3882c7acb720fcdb629bea70:0'}, {'address': '1NPrfWgJfkANmd1jt88A141PjhiarT8d9U', 'value': 9770000, 'output': '510d643b587f853087b17d3cf212ae43ba86273f3882c7acb720fcdb629bea70:1', 'block_height': 392525, 'spend': '2598cd3fa5b4703f6c8cc066a548aa1709273793191dc3715632e017d89503c1:0'}, {'address': '1NPrfWgJfkANmd1jt88A141PjhiarT8d9U', 'value': 41737, 'output': '18df326de0429e75aa0cf1cf8f1667b7495fa6c0aa537c752159ea02dcfdf363:18', 'block_height': 454724, 'spend': '9e6c499a155ff83443c329e0ef465b1891bb9cc859dde4f403515c0a6b44e8c5:3'}, {'address': '1NPrfWgJfkANmd1jt88A141PjhiarT8d9U', 'value': 59647, 'output': '28ecd0b0f1930fd4b8384d8a8a1c8d8378fa545c03f0c24ec49d018c7486b9c4:17', 'block_height': 442726, 'spend': 'ff9f63af4bab5b066bba016719778c9bdcbed1bc1f619357cb548fad819ed3ec:2'}, {'address': '1NPrfWgJfkANmd1jt88A141PjhiarT8d9U', 'value': 8202, 'output': '0a28c700bed23fd1a8c98a396b368e6e65089a0785266499366072e2e4492d88:9', 'block_height': 403890, 'spend': '59ad66109c153d52593f0ba394b78aec0648376214e2603803b90720a161650b:36'}, {'address': '1NPrfWgJfkANmd1jt88A141PjhiarT8d9U', 'value': 85858, 'output': 'cc02ade75bbba943c68306135acb57da9599d29eae6bc4632081921da7afdf2b:15', 'block_height': 433010, 'spend': 'e858d33cf5be0df34e6e4e46b1de3b7c75b3d6ef0262933e3b0f152960ae8aef:0'}, {'address': '1NPrfWgJfkANmd1jt88A141PjhiarT8d9U', 'value': 77471, 'output': '0efdea3e78066299ddbf26ac309aaa868c8fac0f9a7ebe3bbd4b6574af3b4bb1:16', 'block_height': 434040, 'spend': '59ad66109c153d52593f0ba394b78aec0648376214e2603803b90720a161650b:1'}, {'address': '1NPrfWgJfkANmd1jt88A141PjhiarT8d9U', 'value': 14784, 'output': '85b9fbbc15540d298c237b150b26a3383f735e20caabd92111ecdac7b9182bfc:2', 'block_height': 421164, 'spend': '59ad66109c153d52593f0ba394b78aec0648376214e2603803b90720a161650b:22'}, {'address': '1NPrfWgJfkANmd1jt88A141PjhiarT8d9U', 'value': 5616, 'output': 'ff3678e5930677d4e12bac748065905d8e14dcebce284d33e2dc3c17cbfca823:13', 'block_height': 425189, 'spend': '59ad66109c153d52593f0ba394b78aec0648376214e2603803b90720a161650b:11'}, {'address': '1NPrfWgJfkANmd1jt88A141PjhiarT8d9U', 'value': 41571352, 'output': 'b5f815c6e44c5729a54d1c792e953cc8058ee99f5f596489dbef28c07b045018:96', 'block_height': 424687, 'spend': '01510543b5593322f7d2c3d95aa7f39968b07586690f3274301937b4595a72e9:0'}, {'address': '1NPrfWgJfkANmd1jt88A141PjhiarT8d9U', 'value': 8106, 'output': '85b9fbbc15540d298c237b150b26a3383f735e20caabd92111ecdac7b9182bfc:4', 'block_height': 421164, 'spend': '59ad66109c153d52593f0ba394b78aec0648376214e2603803b90720a161650b:21'}, {'address': '1NPrfWgJfkANmd1jt88A141PjhiarT8d9U', 'value': 4430682, 'output': 'db6a3e9b9db1f998a8cfcb797a5c25d8f8a622684874d76fff7f106bfc6be060:5', 'block_height': 394637, 'spend': '6830681e654c35da2af2c4e6ebc6cf3fb366b66b069b6add18cca226c0430b55:0'}, {'address': '1NPrfWgJfkANmd1jt88A141PjhiarT8d9U', 'value': 6015, 'output': '85b9fbbc15540d298c237b150b26a3383f735e20caabd92111ecdac7b9182bfc:6', 'block_height': 421164, 'spend': '59ad66109c153d52593f0ba394b78aec0648376214e2603803b90720a161650b:19'}, {'address': '1NPrfWgJfkANmd1jt88A141PjhiarT8d9U', 'value': 7502, 'output': '2a8d0e9cfe44e0f2e18392bdadbcd1a460db180f123146e13165a741f3436238:12', 'block_height': 411416, 'spend': '59ad66109c153d52593f0ba394b78aec0648376214e2603803b90720a161650b:29'}, {'address': '1NPrfWgJfkANmd1jt88A141PjhiarT8d9U', 'value': 7588, 'output': 'a9a6ff66b46154ab17dd6eae0b3bff19f0b2ed0e4cdf96cf04f666e53255f643:11', 'block_height': 410326, 'spend': '59ad66109c153d52593f0ba394b78aec0648376214e2603803b90720a161650b:30'}, {'address': '1NPrfWgJfkANmd1jt88A141PjhiarT8d9U', 'value': 8111, 'output': 'c4b14fb3beaa8ef4f2cb6447a16e7cc6960a799a7eebd52893d92f97f9c12b61:10', 'block_height': 405995, 'spend': '59ad66109c153d52593f0ba394b78aec0648376214e2603803b90720a161650b:34'}]\n",
      "5241043670ac33e7022faefc37ed2fad26c80747b1ae847ee001ae3eadd0e254c9effe0ba8a96d044e11da4527b8009fdd6b9dc25ecbdd8bb03c30dd8c1bb8d7820000410432eb27d0eac18cc739701b4b9558c1003c506b07a589c420a9f690307e1f909b70f903f81e97dd208599831888f130618b2cdea8daa4e6f6e229e5fadcb1b6ee4104b8ed3e5e02ef9953168af5debf48c7c958f0eb9df39a38e6ccb77ee52b3c3fb4fc17dfcab8976dfbf7368a9aed28eab1383f16c64ad4aa842b0a2713a283b03853ae\n",
      "37ycDcpmbjU1jg4SpqxNFgYvkYamVozdsF\n"
     ]
    }
   ],
   "source": [
    "#!/usr/bin/env python\n",
    "#-*- coding: utf-8 -*-\n",
    "#-------------------------------------------------------------------------------\n",
    "# Name:        module1\n",
    "# Purpose:\n",
    "#\n",
    "# Author:      Jean\n",
    "#\n",
    "# Created:     13/02/2018\n",
    "# Copyright:   (c) Jean 2018\n",
    "# Licence:     <your licence>\n",
    "#-------------------------------------------------------------------------------\n",
    "from bitcointools import *\n",
    "\n",
    "priv = random_key()\n",
    "print(priv)\n",
    "pub=privtopub(priv)\n",
    "print(pub)\n",
    "addr=pubtoaddr(pub)\n",
    "print(addr)\n",
    "\n",
    "priv = sha256('bitcoin is awesome lets all go to the moon someday')\n",
    "print(priv)\n",
    "pub=privtopub(priv)\n",
    "print(pub)\n",
    "addr=pubtoaddr(pub)\n",
    "print(addr)\n",
    "\n",
    "priv = sha256('bitcoin is awesome let all go to the moon someday')\n",
    "print(priv)\n",
    "pub=privtopub(priv)\n",
    "print(pub)\n",
    "addr=pubtoaddr(pub)\n",
    "print(addr)\n",
    "\n",
    "h=history('1NPrfWgJfkANmd1jt88A141PjhiarT8d9U')\n",
    "print(h)\n",
    "\n",
    "pub1= privtopub(random_key())\n",
    "pub2= privtopub(random_key())\n",
    "pub3= privtopub(random_key())\n",
    "multi = mk_multisig_script(pub1,pub2,pub3,2,3)\n",
    "print(multi)\n",
    "maddr=scriptaddr(multi)\n",
    "print(maddr)\n",
    "\n",
    "def main():\n",
    "    pass\n",
    "\n",
    "if __name__ == '__main__':\n",
    "    main()\n"
   ]
  },
  {
   "cell_type": "code",
   "execution_count": null,
   "metadata": {},
   "outputs": [],
   "source": []
  }
 ],
 "metadata": {
  "kernelspec": {
   "display_name": "Python 3",
   "language": "python",
   "name": "python3"
  },
  "language_info": {
   "codemirror_mode": {
    "name": "ipython",
    "version": 3
   },
   "file_extension": ".py",
   "mimetype": "text/x-python",
   "name": "python",
   "nbconvert_exporter": "python",
   "pygments_lexer": "ipython3",
   "version": "3.6.9"
  }
 },
 "nbformat": 4,
 "nbformat_minor": 2
}

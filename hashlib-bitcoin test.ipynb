{
 "cells": [
  {
   "cell_type": "code",
   "execution_count": 1,
   "metadata": {},
   "outputs": [
    {
     "name": "stdout",
     "output_type": "stream",
     "text": [
      "9c24b06143c07224c897bac972e6e92b46cf18063f1a469ebe2f7a0966306105\n",
      "dc1f5bfca5277b8bd8d0b6c57d7dae0cdf04e0fd983567f820333a21004807c1\n"
     ]
    }
   ],
   "source": [
    "#!/usr/bin/env python\n",
    "#-*- coding: utf-8 -*-\n",
    "#-------------------------------------------------------------------------------\n",
    "# Name:        module1\n",
    "# Purpose:\n",
    "# Link : https://www.youtube.com/watch?v=2Nih24Hy5ng\n",
    "# Author:      Jean\n",
    "#\n",
    "# Created:     13/02/2018\n",
    "# Copyright:   (c) Jean 2018\n",
    "# Licence:     <your licence>\n",
    "#-------------------------------------------------------------------------------\n",
    "import hashlib\n",
    "m = hashlib.sha3_256()\n",
    "m.update(b'hello world!')\n",
    "#print(m.digest())\n",
    "#print(m.hexdigest())\n",
    "\n",
    "n = hashlib.sha3_256()\n",
    "n.update(b'hello world! hello world! hello world! hello world! hello world! hello world! hello world!')\n",
    "#print(n.digest())\n",
    "#print(n.hexdigest())\n",
    "\n",
    "print(m.hexdigest())\n",
    "print(n.hexdigest())\n",
    "\n",
    "def main():\n",
    "    pass\n",
    "\n",
    "if __name__ == '__main__':\n",
    "    main()\n"
   ]
  },
  {
   "cell_type": "code",
   "execution_count": null,
   "metadata": {},
   "outputs": [],
   "source": []
  }
 ],
 "metadata": {
  "kernelspec": {
   "display_name": "Python 3",
   "language": "python",
   "name": "python3"
  },
  "language_info": {
   "codemirror_mode": {
    "name": "ipython",
    "version": 3
   },
   "file_extension": ".py",
   "mimetype": "text/x-python",
   "name": "python",
   "nbconvert_exporter": "python",
   "pygments_lexer": "ipython3",
   "version": "3.6.9"
  }
 },
 "nbformat": 4,
 "nbformat_minor": 2
}

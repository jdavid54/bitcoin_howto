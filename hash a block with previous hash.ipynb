{
 "cells": [
  {
   "cell_type": "code",
   "execution_count": 1,
   "metadata": {},
   "outputs": [
    {
     "name": "stdout",
     "output_type": "stream",
     "text": [
      "header_hex= b'0100000081cd02ab7e569e8bcd9317e2fe99f2de44d49ab2b8851ba4a308000000000000e320b6c2fffc8d750423db8b1eb942ae710e951ed797f7affc8892b0f1fc122bc7f5d74df2b9441a42a14695'\n",
      "sha256_header_hex= 38f1abdecb7e001ab403aecd885a010d5a254054e479d335273eaa1cbdd62674\n",
      "header_bin= b'\\x01\\x00\\x00\\x00\\x81\\xcd\\x02\\xab~V\\x9e\\x8b\\xcd\\x93\\x17\\xe2\\xfe\\x99\\xf2\\xdeD\\xd4\\x9a\\xb2\\xb8\\x85\\x1b\\xa4\\xa3\\x08\\x00\\x00\\x00\\x00\\x00\\x00\\xe3 \\xb6\\xc2\\xff\\xfc\\x8du\\x04#\\xdb\\x8b\\x1e\\xb9B\\xaeq\\x0e\\x95\\x1e\\xd7\\x97\\xf7\\xaf\\xfc\\x88\\x92\\xb0\\xf1\\xfc\\x12+\\xc7\\xf5\\xd7M\\xf2\\xb9D\\x1aB\\xa1F\\x95'\n",
      "sha256_header_bin= b'\\xb9\\xd7QS5\\x93\\xac\\x10\\xcd\\xfb{\\x8e\\x03\\xca\\xd8\\xba\\xbcg\\xd8\\xea\\xea\\xc0\\xa3i\\x9b\\x82\\x85}\\xac\\xac\\x93\\x90'\n",
      "digest_sha2562x_header_bin= b'\\x1d\\xbd\\x98\\x1f\\xe6\\x98Wv\\xb6D\\xb1s\\xa4\\xd08]\\xdc\\x1a\\xa2\\xa8)h\\x8d\\x1e\\x00\\x00\\x00\\x00\\x00\\x00\\x00\\x00'\n",
      "hexdigest_sha2562x_header_bin= 1dbd981fe6985776b644b173a4d0385ddc1aa2a829688d1e0000000000000000\n",
      "reverse_hexdigest_sha2562x_header_bin= 00000000000000001e8d6829a8a21adc5d38d0a473b144b6765798e61f98bd1d\n",
      "00000000000000001e8d6829a8a21adc5d38d0a473b144b6765798e61f98bd1d\n",
      "00000000000000001e8d6829a8a21adc5d38d0a473b144b6765798e61f98bd1d\n",
      "00000000000000001e8d6829a8a21adc5d38d0a473b144b6765798e61f98bd1d\n"
     ]
    }
   ],
   "source": [
    "#!/usr/bin/env python\n",
    "#-*- coding: utf-8 -*-\n",
    "#-------------------------------------------------------------------------------\n",
    "# Name:        module2\n",
    "# Purpose:\n",
    "# Link : https://en.bitcoin.it/wiki/Block_hashing_algorithm\n",
    "# Author:      Jean\n",
    "#\n",
    "# Created:     12/02/2018\n",
    "# Copyright:   (c) Jean 2018\n",
    "# Licence:     <your licence>\n",
    "#-------------------------------------------------------------------------------\n",
    "import hashlib                                                                   #les opérations se font qu'avec des bytes !!!!!\n",
    "import codecs as cd\n",
    "\n",
    "def rev3(a):\n",
    "    return \"\".join(map(str.__add__, a[-2::-2] ,a[-1::-2]))\n",
    "\n",
    "def rev6(a):\n",
    "    return \"\".join([a[x:x+2] for x in range(0,len(a),2)][::-1])\n",
    "\n",
    "def f(s): #recursive function\n",
    "    return \"\" if not s else f(s[2:]) + s[:2]\n",
    "\n",
    "#champs d'entête de blockchain bitcoin  en bytes\n",
    "version=b\"01000000\"\n",
    "hashPrevBlock=b\"81cd02ab7e569e8bcd9317e2fe99f2de44d49ab2b8851ba4a308000000000000\"\n",
    "hashMerkleRoot= b\"e320b6c2fffc8d750423db8b1eb942ae710e951ed797f7affc8892b0f1fc122b\"\n",
    "time= b\"c7f5d74d\"\n",
    "bits= b\"f2b9441a\"\n",
    "nonce= b\"42a14695\"\n",
    "#entête de block d'un blockchain\n",
    "header_hex = version + hashPrevBlock + hashMerkleRoot + time + bits +nonce       #type bytes OK\n",
    "print(\"header_hex=\",header_hex)\n",
    "hash0=hashlib.sha256(header_hex).hexdigest()                                     #sha256 digère bytes et donne des bytes\n",
    "print(\"sha256_header_hex=\",hash0)                                                            #hexdigest donne une chaine str\n",
    "# il faut préciser que le contenu est hex avec decode !\n",
    "header_bin = cd.decode(header_hex, encoding='hex', errors='strict')              # encode une chaine hex et donne des bytes\n",
    "print (\"header_bin=\",header_bin)\n",
    "# sha256 1x\n",
    "hash0=hashlib.sha256(header_bin).digest()\n",
    "print(\"sha256_header_bin=\",hash0)\n",
    "# sha256 2x\n",
    "hash1 = hashlib.sha256(hashlib.sha256(header_bin).digest()).digest()\n",
    "print(\"digest_sha2562x_header_bin=\",hash1)\n",
    "hash2 = hashlib.sha256(hashlib.sha256(header_bin).digest()).hexdigest()\n",
    "print(\"hexdigest_sha2562x_header_bin=\",hash2)\n",
    "#'1dbd981fe6985776b644b173a4d0385ddc1aa2a829688d1e0000000000000000'\n",
    "#reverse the hash  little indian ?\n",
    "print(\"reverse_hexdigest_sha2562x_header_bin=\",rev3(hash2))\n",
    "#'00000000000000001e8d6829a8a21adc5d38d0a473b144b6765798e61f98bd1d'\n",
    "\n",
    "#reverse hex string\n",
    "#https://stackoverflow.com/questions/5864271/reverse-a-string-in-python-two-characters-at-a-time-network-byte-order\n",
    "s='1dbd981fe6985776b644b173a4d0385ddc1aa2a829688d1e0000000000000000'\n",
    "print(rev3(s))\n",
    "print(rev6(s))\n",
    "print(f(s))       #méthode récurssive !!!\n",
    "\n",
    "def main():\n",
    "    pass\n",
    "\n",
    "if __name__ == '__main__':\n",
    "    main()\n"
   ]
  },
  {
   "cell_type": "code",
   "execution_count": null,
   "metadata": {},
   "outputs": [],
   "source": []
  },
  {
   "cell_type": "code",
   "execution_count": null,
   "metadata": {},
   "outputs": [],
   "source": []
  }
 ],
 "metadata": {
  "kernelspec": {
   "display_name": "Python 3",
   "language": "python",
   "name": "python3"
  },
  "language_info": {
   "codemirror_mode": {
    "name": "ipython",
    "version": 3
   },
   "file_extension": ".py",
   "mimetype": "text/x-python",
   "name": "python",
   "nbconvert_exporter": "python",
   "pygments_lexer": "ipython3",
   "version": "3.6.9"
  }
 },
 "nbformat": 4,
 "nbformat_minor": 2
}

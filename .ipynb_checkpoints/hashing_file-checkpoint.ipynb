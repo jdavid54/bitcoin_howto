{
 "cells": [
  {
   "cell_type": "code",
   "execution_count": 1,
   "metadata": {},
   "outputs": [
    {
     "name": "stdout",
     "output_type": "stream",
     "text": [
      "hash= 90bc9a5cb9e27e64a9236008caf96d4e7b0a0cb712aa39a4eaeab39cd0e1e630\n"
     ]
    }
   ],
   "source": [
    "#!/usr/bin/env python\n",
    "#-*- coding: utf-8 -*-\n",
    "#-------------------------------------------------------------------------------\n",
    "# Name:        module1\n",
    "# Purpose:\n",
    "#\n",
    "# Author:      Jean\n",
    "#\n",
    "# Created:     09/02/2018\n",
    "# Copyright:   (c) Jean 2018\n",
    "# Licence:     <your licence>\n",
    "#-------------------------------------------------------------------------------\n",
    "import os\n",
    "\n",
    "import hashlib\n",
    "\n",
    "cwd=os.getcwd()\n",
    "#print(cwd)\n",
    "file_path = os.path.join(cwd, \"hash file.py\") #decimal incluant 2 entier 2.718\n",
    "f = open(file_path, 'rb')\n",
    "#print(tuple(f))\n",
    "f.close()\n",
    "\n",
    "f = open(file_path, 'rb')\n",
    "text=f.read()\n",
    "#print(type(text))     #type bytes avec open rb\n",
    "#print(text)            #text rb : b'..............'\n",
    "print('hash=',hashlib.sha256(text).hexdigest())      #le sha256 digère des bytes open(rb) et non pas des str open(r)\n",
    "f.close()\n",
    "\n",
    "def main():\n",
    "    pass\n",
    "\n",
    "if __name__ == '__main__':\n",
    "    main()\n"
   ]
  },
  {
   "cell_type": "code",
   "execution_count": null,
   "metadata": {},
   "outputs": [],
   "source": []
  }
 ],
 "metadata": {
  "kernelspec": {
   "display_name": "Python 3",
   "language": "python",
   "name": "python3"
  },
  "language_info": {
   "codemirror_mode": {
    "name": "ipython",
    "version": 3
   },
   "file_extension": ".py",
   "mimetype": "text/x-python",
   "name": "python",
   "nbconvert_exporter": "python",
   "pygments_lexer": "ipython3",
   "version": "3.6.9"
  }
 },
 "nbformat": 4,
 "nbformat_minor": 2
}

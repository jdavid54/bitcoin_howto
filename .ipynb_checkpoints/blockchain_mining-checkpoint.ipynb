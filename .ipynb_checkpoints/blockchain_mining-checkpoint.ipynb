{
 "cells": [
  {
   "cell_type": "code",
   "execution_count": 1,
   "metadata": {},
   "outputs": [
    {
     "name": "stdout",
     "output_type": "stream",
     "text": [
      "{'transactions': [{'from': 'A', 'to': 'B', 'amount': 10}, {'from': 'B', 'to': 'C', 'amount': 10}, {'from': 'C', 'to': 'D', 'amount': 10, 'message': 'thanks for the help!'}]}\n",
      "80b4891dd9d8ced8d00bd5b1356f57a567bbf7d950efb815aeeeaf570659704b\n",
      "1ca5a257f3b4c542353a83f748693ac02c363024d0cb42a0a2812e0e6c4d0bb5\n"
     ]
    }
   ],
   "source": [
    "# coding: utf-8\n",
    "import hashlib\n",
    "import pickle\n",
    "\n",
    "block ={\n",
    "    'transactions':[\n",
    "        {\n",
    "            'from' : 'A',\n",
    "            'to' : 'B',\n",
    "            'amount' : 10\n",
    "        },\n",
    "        {\n",
    "            'from' : 'B',\n",
    "            'to' : 'C',\n",
    "            'amount' : 10\n",
    "        },\n",
    "        {\n",
    "            'from' : 'C',\n",
    "            'to' : 'D',\n",
    "            'amount' : 10,\n",
    "            'message' : 'thanks for the help!'\n",
    "        },\n",
    "    ]\n",
    "}\n",
    "\n",
    "print(block)\n",
    "\n",
    "pickle.dumps(block)\n",
    "m = hashlib.sha3_256()\n",
    "m.update(pickle.dumps(block))\n",
    "m.digest()\n",
    "m.hexdigest()\n",
    "#bloc modifié\n",
    "block2 ={\n",
    "    'transactions':[\n",
    "        {\n",
    "            'from' : 'A',\n",
    "            'to' : 'B',\n",
    "            'amount' : 1000000      #augmentation de la valeur\n",
    "        },\n",
    "        {\n",
    "            'from' : 'B',\n",
    "            'to' : 'C',\n",
    "            'amount' : 10\n",
    "        },\n",
    "        {\n",
    "            'from' : 'C',\n",
    "            'to' : 'D',\n",
    "            'amount' : 10,\n",
    "            'message' : 'thanks for the help!'\n",
    "        },\n",
    "    ]\n",
    "}\n",
    "n = hashlib.sha3_256()\n",
    "n.update(pickle.dumps(block2))\n",
    "n.hexdigest()\n",
    "#différence de hash\n",
    "print(m.hexdigest())\n",
    "print(n.hexdigest())"
   ]
  },
  {
   "cell_type": "code",
   "execution_count": 2,
   "metadata": {},
   "outputs": [
    {
     "name": "stdout",
     "output_type": "stream",
     "text": [
      "{'transactions': [{'from': 'A', 'to': 'B', 'amount': 10}, {'from': 'B', 'to': 'C', 'amount': 10}, {'from': 'C', 'to': 'D', 'amount': 10, 'message': 'thanks for the help!'}], 'last_block': '80b4891dd9d8ced8d00bd5b1356f57a567bbf7d950efb815aeeeaf570659704b', 'nonce': 0}\n",
      "d1c87daa69cb06accd7012cf978a923595f9f0c390b635c11f3d667dfbb2d6e3\n",
      "000000\n"
     ]
    }
   ],
   "source": [
    "#Considérons un bloc valide\n",
    "top_block ={\n",
    "    'transactions':[\n",
    "        {\n",
    "            'from' : 'A',\n",
    "            'to' : 'B',\n",
    "            'amount' : 10\n",
    "        },\n",
    "        {\n",
    "            'from' : 'B',\n",
    "            'to' : 'C',\n",
    "            'amount' : 10\n",
    "        },\n",
    "        {\n",
    "            'from' : 'C',\n",
    "            'to' : 'D',\n",
    "            'amount' : 10,\n",
    "            'message' : 'thanks for the help!'\n",
    "        },\n",
    "    ],\n",
    "    'last_block' : m.hexdigest(),\n",
    "    'nonce' : 0\n",
    "}\n",
    "print(top_block)\n",
    "#on va créer et valider un bloc avec une valeur de difficulté\n",
    "o = hashlib.sha3_256()\n",
    "o.update(pickle.dumps(top_block))\n",
    "print(o.hexdigest())\n",
    "# le mining c'est rechercher une valeur pour nonce qui permet de résoudre la difficulté\n",
    "#ici pour la difficulté x, c'est d'obtenir x zéros en tête dans le hash\n",
    "difficulty = 6\n",
    "difficulty_string = ''.join(['0' for x in range(difficulty)])\n",
    "print(difficulty_string)"
   ]
  },
  {
   "cell_type": "code",
   "execution_count": null,
   "metadata": {},
   "outputs": [],
   "source": [
    "#opération de mining\n",
    "# on part avec une valeur de nonce (ici 1) et on incrémente de 1 et à chaque fois on l'injecte dans le bloc\n",
    "# puis on refais le calcul du hash jusqu'à l'obtention du hash avec la condition\n",
    "\n",
    "def mine():\n",
    "    nonce = 11320000\n",
    "    top_block['nonce']=1\n",
    "    p = hashlib.sha3_256()\n",
    "    while p.hexdigest()[:difficulty] != difficulty_string:\n",
    "        nonce += 1                        #on incrémente nonce\n",
    "        top_block['nonce'] = nonce        #on injecte dans le bloc\n",
    "        p = hashlib.sha3_256()\n",
    "        p.update(pickle.dumps(top_block))\n",
    "        if nonce%10000==0:print(nonce)\n",
    "        #print(nonce, p.hexdigest())\n",
    "    #on a gagné\n",
    "    print(nonce, p.hexdigest())\n",
    "\n",
    "import timeit\n",
    "t=timeit.Timer(\"mine()\",\"from __main__ import mine\").timeit(1)\n",
    "print(t)"
   ]
  },
  {
   "cell_type": "code",
   "execution_count": null,
   "metadata": {},
   "outputs": [],
   "source": []
  }
 ],
 "metadata": {
  "kernelspec": {
   "display_name": "Python 3",
   "language": "python",
   "name": "python3"
  },
  "language_info": {
   "codemirror_mode": {
    "name": "ipython",
    "version": 3
   },
   "file_extension": ".py",
   "mimetype": "text/x-python",
   "name": "python",
   "nbconvert_exporter": "python",
   "pygments_lexer": "ipython3",
   "version": "3.6.9"
  }
 },
 "nbformat": 4,
 "nbformat_minor": 2
}

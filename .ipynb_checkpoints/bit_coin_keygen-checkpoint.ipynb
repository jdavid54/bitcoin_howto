{
 "cells": [
  {
   "cell_type": "code",
   "execution_count": 2,
   "metadata": {},
   "outputs": [
    {
     "name": "stdout",
     "output_type": "stream",
     "text": [
      "b6d1bcbc449f302691b67e4645f5511126e588d54fdf86a51a27eae8a2973e72\n",
      "0440b9677f954af16770495fecb79d41e523038aef00a6bd33bb5946706a8e47f526803762c5a31cb5677aedb747c9b64ee5de70eb1c984508479471a2b0818bf2\n",
      "1FCW5T4CSpaxqUwiYnCYKuvcdVEBnG4A7d\n"
     ]
    }
   ],
   "source": [
    "#!/usr/bin/env python\n",
    "#-*- coding: utf-8 -*-\n",
    "#-------------------------------------------------------------------------------\n",
    "# Name:        module2\n",
    "# Purpose:\n",
    "#\n",
    "# Author:      Jean\n",
    "#\n",
    "# Created:     13/02/2018\n",
    "# Copyright:   (c) Jean 2018\n",
    "# Licence:     <your licence>\n",
    "#-------------------------------------------------------------------------------\n",
    "from bitcoin import *\n",
    "\n",
    "priv = random_key()\n",
    "print(priv)\n",
    "pub=privtopub(priv)\n",
    "print(pub)\n",
    "addr=pubtoaddr(pub)\n",
    "print(addr)\n",
    "\n",
    "def main():\n",
    "    pass\n",
    "\n",
    "if __name__ == '__main__':\n",
    "    main()\n"
   ]
  },
  {
   "cell_type": "code",
   "execution_count": null,
   "metadata": {},
   "outputs": [],
   "source": []
  }
 ],
 "metadata": {
  "kernelspec": {
   "display_name": "Python 3",
   "language": "python",
   "name": "python3"
  }
 },
 "nbformat": 4,
 "nbformat_minor": 2
}

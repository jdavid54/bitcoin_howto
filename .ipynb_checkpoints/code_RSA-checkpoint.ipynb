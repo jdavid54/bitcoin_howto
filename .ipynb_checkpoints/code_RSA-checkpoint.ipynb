{
 "cells": [
  {
   "cell_type": "code",
   "execution_count": 1,
   "metadata": {},
   "outputs": [
    {
     "name": "stdout",
     "output_type": "stream",
     "text": [
      "23 160 187 7 72 30\n"
     ]
    }
   ],
   "source": [
    "#-------------------------------------------------------------------------------\n",
    "# Name:        module1\n",
    "# Purpose: Codage RSA\n",
    "#\n",
    "# Author:      Jean\n",
    "#\n",
    "# Created:     27/08/2017\n",
    "# Copyright:   (c) Jean 2017\n",
    "# Licence:     <your licence>\n",
    "#-------------------------------------------------------------------------------\n",
    "\n",
    "def cherche_b(a,z):\n",
    "    b=0\n",
    "    while (a*b)%z != 1 and b<z:\n",
    "        b=b+1\n",
    "    return b\n",
    "\n",
    "def calcCode(M,a,n):\n",
    "    C=1\n",
    "    for k in range(a):\n",
    "        C=C*M % n\n",
    "    return C\n",
    "\n",
    "def main():\n",
    "    b=cherche_b(a,z)\n",
    "    C=calcCode(30,a,n)\n",
    "    D=calcCode(C,b,n)\n",
    "    print(a,z,n,b,C,D)\n",
    "\n",
    "if __name__ == '__main__':\n",
    "    p=11; q=17\n",
    "    n=p*q; z=(p-1)*(q-1)\n",
    "    a=23;\n",
    "    main()\n"
   ]
  },
  {
   "cell_type": "code",
   "execution_count": null,
   "metadata": {},
   "outputs": [],
   "source": []
  }
 ],
 "metadata": {
  "kernelspec": {
   "display_name": "Python 3",
   "language": "python",
   "name": "python3"
  },
  "language_info": {
   "codemirror_mode": {
    "name": "ipython",
    "version": 3
   },
   "file_extension": ".py",
   "mimetype": "text/x-python",
   "name": "python",
   "nbconvert_exporter": "python",
   "pygments_lexer": "ipython3",
   "version": "3.6.9"
  }
 },
 "nbformat": 4,
 "nbformat_minor": 2
}

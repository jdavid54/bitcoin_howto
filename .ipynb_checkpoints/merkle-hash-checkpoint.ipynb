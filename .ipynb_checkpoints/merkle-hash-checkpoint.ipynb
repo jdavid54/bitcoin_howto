{
 "cells": [
  {
   "cell_type": "code",
   "execution_count": 1,
   "metadata": {},
   "outputs": [
    {
     "name": "stdout",
     "output_type": "stream",
     "text": [
      "b'86134954d4ca9357045c216b8f3d3495fe1de7666d55dcae53e30ae003fd8f44'\n",
      "b'771ab9bc19940de0052777123ebb2619babd427fe933527922a34b3bbf86f12c'\n"
     ]
    }
   ],
   "source": [
    "#!/usr/bin/env python\n",
    "#-*- coding: utf-8 -*-\n",
    "#-------------------------------------------------------------------------------\n",
    "# Name:        module1\n",
    "# Purpose:\n",
    "#\n",
    "# Author:      Jean\n",
    "#\n",
    "# Created:     18/02/2018\n",
    "# Copyright:   (c) Jean 2018\n",
    "# Licence:     <your licence>\n",
    "#-------------------------------------------------------------------------------\n",
    "import hashlib\n",
    "import binascii\n",
    "\n",
    "\n",
    "# hash pairs of items recursively until a single value is obtained\n",
    "def merkle(hashList):\n",
    "    if len(hashList) == 1:\n",
    "        return hashList[0]\n",
    "    newHashList = []\n",
    "    # process pairs; for odd length, the last is skipped\n",
    "    for i in range(0, len(hashList)-1, 2):\n",
    "        newHashList.append(hash2(hashList[i], hashList[i+1]))\n",
    "    if len(hashList) % 2 == 1:   # odd, hash last item twice\n",
    "        newHashList.append(hash2(hashList[-1], hashList[-1]))\n",
    "    return merkle(newHashList)\n",
    "\n",
    "def hash2(a, b):\n",
    "    # reverse inputs before and after hashing\n",
    "    # due to big-endian / little-endian nonsense\n",
    "    a1 = binascii.unhexlify(a)[::-1]\n",
    "    b1 = binascii.unhexlify(b)[::-1]\n",
    "    h = hashlib.sha256(hashlib.sha256(a1 + b1).digest()).digest()\n",
    "    return binascii.hexlify(h)[::-1]\n",
    "\n",
    "#all the hashes codes in the block are hashed by pairs to get the merkle hash\n",
    "txHashes = [\n",
    " '634192b589ea881333b5e566873ecbaaf8addc5d7ef4240f8e8c1325c29c4c7a'\n",
    ",'26fe7c02081fa96999285aad651b4d7630586a0a95adf2481c9ccf7409422828'\n",
    ",'f413cd85f36e50532f7ac66a54586197f246e2992cd5544291f7f096e7ced840'\n",
    ",'d7969105839864d64bd2bfadfdd3d74239d6ca61c921ae7522d1efb572f656ea'\n",
    ",'35c41399bf89c9c5930a2e828412056aea226e26d325ca6e1b18ffd54676273a'\n",
    ",'c2fbb25c7dcca8a41e5b305e9ba0c0c9fcb80b16877029349b65358a7d7b7ce0'\n",
    ",'8c406098409eb99638e768aa2ca920cc5ec056bdc3da19c6c39c4968e20ee000'\n",
    ",'e162711f4f07794e70bd2004edf8fd61d349a9a9bd267c2b3f5973a7a84d95ef'\n",
    ",'e41255088c4b217307c5460f36cd0ec891bdfdda12db96f6fb9832c0051d8751'\n",
    ",'9ab30bb67fa2b3820fc18a7b78b6652d5222f70af64c0699f22894b25750bb99'\n",
    ",'0000000000000000e067a478024addfecdc93628978aa52d91fabd4292982a50']\n",
    "print(merkle(txHashes))\n",
    "\n",
    "txHashes2 = [   #changing leading 6 into 0\n",
    " '034192b589ea881333b5e566873ecbaaf8addc5d7ef4240f8e8c1325c29c4c7a'\n",
    ",'26fe7c02081fa96999285aad651b4d7630586a0a95adf2481c9ccf7409422828'\n",
    ",'f413cd85f36e50532f7ac66a54586197f246e2992cd5544291f7f096e7ced840'\n",
    ",'d7969105839864d64bd2bfadfdd3d74239d6ca61c921ae7522d1efb572f656ea'\n",
    ",'35c41399bf89c9c5930a2e828412056aea226e26d325ca6e1b18ffd54676273a'\n",
    ",'c2fbb25c7dcca8a41e5b305e9ba0c0c9fcb80b16877029349b65358a7d7b7ce0'\n",
    ",'8c406098409eb99638e768aa2ca920cc5ec056bdc3da19c6c39c4968e20ee000'\n",
    ",'e162711f4f07794e70bd2004edf8fd61d349a9a9bd267c2b3f5973a7a84d95ef'\n",
    ",'e41255088c4b217307c5460f36cd0ec891bdfdda12db96f6fb9832c0051d8751'\n",
    ",'9ab30bb67fa2b3820fc18a7b78b6652d5222f70af64c0699f22894b25750bb99'\n",
    ",'0000000000000000e067a478024addfecdc93628978aa52d91fabd4292982a50']\n",
    "print(merkle(txHashes2))\n",
    "\n",
    "def main():\n",
    "    pass\n",
    "\n",
    "if __name__ == '__main__':\n",
    "    main()"
   ]
  },
  {
   "cell_type": "code",
   "execution_count": null,
   "metadata": {},
   "outputs": [],
   "source": []
  }
 ],
 "metadata": {
  "kernelspec": {
   "display_name": "Python 3",
   "language": "python",
   "name": "python3"
  },
  "language_info": {
   "codemirror_mode": {
    "name": "ipython",
    "version": 3
   },
   "file_extension": ".py",
   "mimetype": "text/x-python",
   "name": "python",
   "nbconvert_exporter": "python",
   "pygments_lexer": "ipython3",
   "version": "3.6.9"
  }
 },
 "nbformat": 4,
 "nbformat_minor": 2
}

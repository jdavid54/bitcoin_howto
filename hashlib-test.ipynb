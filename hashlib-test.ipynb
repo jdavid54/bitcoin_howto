{
 "cells": [
  {
   "cell_type": "code",
   "execution_count": 1,
   "metadata": {},
   "outputs": [
    {
     "name": "stdout",
     "output_type": "stream",
     "text": [
      "3.6.9 (default, Nov  7 2019, 10:44:02) \n",
      "[GCC 8.3.0]\n",
      "sys.version_info(major=3, minor=6, micro=9, releaselevel='final', serial=0)\n",
      "b'\\xa4\\x94c\\x15\\x86D\\xf9\\x0f\\x0f)\\xae\\xa7\\xae\\x98?\\xca\\x87pN\\x01\\xd8\\xb3\\x8d\\xae\\x1d\\xde\\xae\\x1c\\xa1\\xe9\\x99}' \n",
      " a49463158644f90f0f29aea7ae983fca87704e01d8b38dae1ddeae1ca1e9997d \n",
      " 32 \n",
      " 64\n",
      "Blake2\n",
      "<_blake2.blake2b object at 0xb6be3de0> \n",
      "d= b'o\\xf8C\\xbahXB\\xaa\\x82\\x03\\x1d?S\\xc4\\x8bf2m\\xf7c\\x9ac\\xd1(\\x97L\\\\\\x14\\xf3\\x1a\\x0f34:\\x8ceU\\x114\\xed\\x1a\\xe0\\xf2\\xb0\\xdd+\\xb4\\x95\\xdc\\x81\\x03\\x9e>\\xeb\\n\\xa1\\xbb\\x03\\x88\\xbb\\xea\\xc2\\x91\\x83' \n",
      "dh= 6ff843ba685842aa82031d3f53c48b66326df7639a63d128974c5c14f31a0f33343a8c65551134ed1ae0f2b0dd2bb495dc81039e3eeb0aa1bb0388bbeac29183 \n",
      "s= 64 \n",
      "bs= 128\n"
     ]
    }
   ],
   "source": [
    "#!/usr/bin/env python\n",
    "#-*- coding: utf-8 -*-\n",
    "#-------------------------------------------------------------------------------\n",
    "# Name:        module1\n",
    "# Purpose:\n",
    "#\n",
    "# Author:      Jean\n",
    "#\n",
    "# Created:     11/02/2018\n",
    "# Copyright:   (c) Jean 2018\n",
    "# Licence:     <your licence>\n",
    "#-------------------------------------------------------------------------------\n",
    "import sys\n",
    "import hashlib\n",
    "from hashlib import blake2b\n",
    "print (sys.version)\n",
    "print(sys.version_info)\n",
    "\n",
    "m=hashlib.sha256()\n",
    "m.update(b\"Nobody inspects\")\n",
    "m.update(b\" the spammish repetition!\")\n",
    "d=m.digest()\n",
    "dh=m.hexdigest()\n",
    "s=m.digest_size\n",
    "bs=m.block_size\n",
    "print(d,\"\\n\",dh,\"\\n\",s,\"\\n\",bs)\n",
    "print(\"Blake2\")\n",
    "#version 3.6\n",
    "h = blake2b()\n",
    "h.update(b'Hello world')\n",
    "d=h.digest()\n",
    "dh=h.hexdigest()\n",
    "s=h.digest_size\n",
    "bs=h.block_size\n",
    "print(h,\"\\nd=\",d,\"\\ndh=\",dh,\"\\ns=\",s,\"\\nbs=\",bs)\n",
    "\n",
    "def main():\n",
    "    pass\n",
    "\n",
    "if __name__ == '__main__':\n",
    "    main()"
   ]
  },
  {
   "cell_type": "code",
   "execution_count": null,
   "metadata": {},
   "outputs": [],
   "source": []
  }
 ],
 "metadata": {
  "kernelspec": {
   "display_name": "Python 3",
   "language": "python",
   "name": "python3"
  },
  "language_info": {
   "codemirror_mode": {
    "name": "ipython",
    "version": 3
   },
   "file_extension": ".py",
   "mimetype": "text/x-python",
   "name": "python",
   "nbconvert_exporter": "python",
   "pygments_lexer": "ipython3",
   "version": "3.6.9"
  }
 },
 "nbformat": 4,
 "nbformat_minor": 2
}
